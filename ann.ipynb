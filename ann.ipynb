{
 "cells": [
  {
   "cell_type": "code",
   "execution_count": null,
   "metadata": {},
   "outputs": [],
   "source": [
    "# importazione pacchetti necessari\n",
    "import matplotlib.pyplot as plt\n",
    "import numpy as np\n",
    "from sklearn.preprocessing import MinMaxScaler\n",
    "from sklearn.model_selection import train_test_split\n",
    "from sklearn.metrics import log_loss, accuracy_score\n",
    "import os\n",
    "import struct\n",
    "\n",
    "# funzione per caricare il dataset MNIST\n",
    "def load_mnist(path=\"/\"):\n",
    "    train_labels_path = os.path.join(path, \"train-labels.idx1-ubyte\")\n",
    "    train_images_path = os.path.join(path, \"train-images.idx3-ubyte\")\n",
    "\n",
    "    test_labels_path = os.path.join(path, \"t10k-labels.idx1-ubyte\")\n",
    "    test_images_path = os.path.join(path, \"t10k-images.idx3-ubyte\")\n",
    "\n",
    "    labels_path = [train_labels_path, test_labels_path]\n",
    "    images_path = [train_images_path, test_images_path]\n",
    "\n",
    "    labels = []\n",
    "    images = []\n",
    "\n",
    "    for path in zip(labels_path, images_path):\n",
    "\n",
    "        with open(path[0], \"rb\") as lbpath:\n",
    "            magic, n = struct.unpack(\">II\", lbpath.read(8))\n",
    "            lb = np.fromfile(lbpath, dtype=np.uint8)\n",
    "            labels.append(lb)\n",
    "\n",
    "        with open(path[1], \"rb\") as imgpath:\n",
    "            magic, num, rows, cols = struct.unpack(\">IIII\", imgpath.read(16))\n",
    "            images.append(np.fromfile(imgpath, dtype=np.uint8).reshape(len(lb), 784))\n",
    "\n",
    "    return images[0], images[1], labels[0], labels[1]"
   ]
  },
  {
   "cell_type": "markdown",
   "metadata": {},
   "source": [
    "Suddivido il dataset nei vari subset di TRAIN e di TEST"
   ]
  },
  {
   "cell_type": "code",
   "execution_count": null,
   "metadata": {},
   "outputs": [],
   "source": [
    "X_train, X_test, Y_train, Y_test = load_mnist(path=\"MNIST\")\n",
    "\n",
    "print(\"Numero caratteristiche per ogni immagine: \" + str(X_train.shape[1]) + \"\\n\")\n",
    "print(\"Numero immagini nel set di TRAIN: \" + str(X_train.shape[0]) + \"\\n\")\n",
    "print(\"Numero immagini nel set di TEST: \" + str(X_test.shape[0]) + \"\\n\")\n",
    "print(\"Nomero totale di caratteristiche usate per addestrare: \" + str(X_train.shape[1] * X_train.shape[0]) + \"\\n\")\n",
    "print(\"Nomero totale di caratteristiche da indovinare: \" + str(X_train.shape[1] * X_test.shape[0]) + \"\\n\")\n",
    "\n",
    "# Visualizzazione di 36 immagini casuali dal dataset di training\n",
    "plt.figure(figsize=(10,10))\n",
    "random_inds = np.random.choice(len(X_train), 36, replace=False)\n",
    "for i, image_ind in enumerate(random_inds):\n",
    "    plt.subplot(6,6,i+1)\n",
    "    plt.xticks([])\n",
    "    plt.yticks([])\n",
    "    plt.grid(False)\n",
    "    image = X_train[image_ind].reshape(28, 28)\n",
    "    plt.imshow(image, cmap=plt.cm.binary)\n",
    "    plt.xlabel(Y_train[image_ind])\n",
    "plt.show()"
   ]
  },
  {
   "cell_type": "markdown",
   "metadata": {},
   "source": [
    "Standardizzo i valori delle caratteristiche in modo da portarli in un range tra 0 e 1"
   ]
  },
  {
   "cell_type": "code",
   "execution_count": null,
   "metadata": {},
   "outputs": [],
   "source": [
    "# immagine non standardizzata\n",
    "print(\"Singola immagine: \" + str(X_train[0]) +\"\\n\")\n",
    "\n",
    "# standardizzazione dei dati\n",
    "mms = MinMaxScaler()\n",
    "X_train = mms.fit_transform(X_train)\n",
    "X_test = mms.transform(X_test)\n",
    "\n",
    "print(\"Immagine standardizzata: \" + str(X_train[0]))"
   ]
  },
  {
   "cell_type": "markdown",
   "metadata": {},
   "source": [
    "Dichiaro la rete neurale e i suoi parametri e la addestriamo sul set di TRAIN, sarà il nostro modello"
   ]
  },
  {
   "cell_type": "code",
   "execution_count": null,
   "metadata": {},
   "outputs": [],
   "source": [
    "from sklearn.neural_network import MLPClassifier\n",
    "\n",
    "# dichiaro i parametri delle rete (due hidden layers di cui uno con 100 nodi e il secondo con 30 nodi)\n",
    "mlp = MLPClassifier(\n",
    "    hidden_layer_sizes=(100, 30), verbose=True\n",
    ")\n",
    "\n",
    "# addestro il modello passandogli i dati di TRAIN\n",
    "mlp.fit(X_train, Y_train)"
   ]
  },
  {
   "cell_type": "markdown",
   "metadata": {},
   "source": [
    "Passo al modello, appena creato e addestrato, i dati del set di TEST per fargli fare le predizioni e vedere come li classifica"
   ]
  },
  {
   "cell_type": "code",
   "execution_count": null,
   "metadata": {},
   "outputs": [],
   "source": [
    "# eseguio le predizioni sui dati di TEST\n",
    "Y_pred = mlp.predict(X_test)\n",
    "Y_proba = mlp.predict_proba(X_test)\n",
    "\n",
    "print(\"Classificazione effettuata\\n\")\n",
    "\n",
    "# calcolo l'accuratezza delle predizioni generate\n",
    "acc = accuracy_score(Y_test, Y_pred)\n",
    "\n",
    "# calcolo la loss\n",
    "lloss = log_loss(Y_test, Y_proba)\n",
    "\n",
    "print(\"Metriche calcolate e memorizzate\")"
   ]
  },
  {
   "cell_type": "markdown",
   "metadata": {},
   "source": [
    "Rifacciamo la stessa cosa ma passandogli i dati del set di TRAIN (ci serviranno unicamente come test per validare il risultato)"
   ]
  },
  {
   "cell_type": "code",
   "execution_count": null,
   "metadata": {},
   "outputs": [],
   "source": [
    "# eseguo le predizioni sui dati di TRAIN per verificare overfitting\n",
    "Y_pred_train = mlp.predict(X_train)\n",
    "Y_proba_train = mlp.predict_proba(X_train)\n",
    "\n",
    "# accuracy e loss\n",
    "acc_train = accuracy_score(Y_train, Y_pred_train)\n",
    "lloss_train = log_loss(Y_train, Y_proba_train)"
   ]
  },
  {
   "cell_type": "markdown",
   "metadata": {},
   "source": [
    "Visualizzo e confronto i risultati generati dalle metriche utilizzate"
   ]
  },
  {
   "cell_type": "code",
   "execution_count": null,
   "metadata": {},
   "outputs": [],
   "source": [
    "# stampo i risultati in console\n",
    "print(\"-- Risultati metriche della Rete Neurale --\\n\")\n",
    "print(f\"Risultati sul set di TEST: Accuracy = {acc} / Loss = {lloss}\\n\")\n",
    "print(f\"Risultati sul set di TRAIN:  Accuracy = {acc_train} / Loss = {lloss_train}\\n\")\n",
    "print(f\"Differenza performance tra TEST e TRAIN: Accuracy = {abs(acc - acc_train)} / Loss = {abs(lloss - lloss_train)}\\n\")"
   ]
  },
  {
   "cell_type": "markdown",
   "metadata": {},
   "source": [
    "Stampo gli elementi classificati in modo errato"
   ]
  },
  {
   "cell_type": "code",
   "execution_count": null,
   "metadata": {},
   "outputs": [],
   "source": [
    "wrong_predictions = [i for i in range(len(Y_test)) if Y_test[i] != Y_pred[i]]\n",
    "num_wrong_predictions = len(wrong_predictions)\n",
    "max_errors_to_show = min(25, num_wrong_predictions)\n",
    "\n",
    "if num_wrong_predictions == 0:\n",
    "    print(\"Nessuna predizione errata\")\n",
    "else:\n",
    "    print(\"Numero di predizioni errate: \" + str(num_wrong_predictions))\n",
    "    cols = 5\n",
    "    rows = int(np.ceil(max_errors_to_show / cols))\n",
    "\n",
    "    plt.figure(figsize=(2 * cols, 2 * rows))\n",
    "\n",
    "    for index in range(max_errors_to_show):\n",
    "        wrong_index = wrong_predictions[index]\n",
    "        image = X_test[wrong_index].reshape(28, 28)\n",
    "        plt.subplot(rows, cols, index + 1)\n",
    "        plt.imshow(image, cmap=\"gray\")\n",
    "        plt.title(\n",
    "            f\"Reale: {Y_test[wrong_index]}, Pred: {Y_pred[wrong_index]}\"\n",
    "        )\n",
    "        plt.axis(\"off\")\n",
    "\n",
    "    plt.tight_layout()\n",
    "    plt.show()\n"
   ]
  }
 ],
 "metadata": {
  "kernelspec": {
   "display_name": "Python 3",
   "language": "python",
   "name": "python3"
  },
  "language_info": {
   "codemirror_mode": {
    "name": "ipython",
    "version": 3
   },
   "file_extension": ".py",
   "mimetype": "text/x-python",
   "name": "python",
   "nbconvert_exporter": "python",
   "pygments_lexer": "ipython3",
   "version": "3.12.1"
  }
 },
 "nbformat": 4,
 "nbformat_minor": 2
}
